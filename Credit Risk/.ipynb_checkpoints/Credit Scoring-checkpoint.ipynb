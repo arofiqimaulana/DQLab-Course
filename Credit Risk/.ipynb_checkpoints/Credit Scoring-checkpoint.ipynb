{
 "cells": [
  {
   "cell_type": "markdown",
   "metadata": {},
   "source": [
    "## Decision Tree\n",
    "Pada bab sebelumnya telah disebutkan sedikit mengenai proses pengambilan keputusan dengan konstruksi rangkaian \"Jika kondisi x maka .... selain itu .... \" atau dikenal dengan \"IF ... ELSE ... \".\n",
    "\n",
    "Dari contoh bab satu, rangkaiannya terlihat sebagai berikut:\n",
    "- Jika jumlah tanggungan berjumlah kurang dari 2 orang , dan durasi pinjaman kurang dari 42 bulan maka rating diberikan nilai 1 dan pengajuan pinjaman diterima. \n",
    "- Jika jumlah tanggungan berjumlah lebih dari 4 orang dan durasi pinjaman lebih dari 30 bulan maka maka rating diberikan nilai 5 dan pengajuan pinjaman ditolak.\n",
    "- Jika jumlah tanggungan berjumlah kurang dari 5, dan durasi pinjaman kurang dari 30 bulan maka maka rating diberikan nilai 3 dan diberikan pinjaman. \n",
    "\n",
    "Nah, rangkaian ini sebenarnya bisa dimodelkan kembali dengan apa yang dinamakan struktur pohon keputusan atau decision tree, seperti ditampilkan secara visual sebagai berikut."
   ]
  },
  {
   "cell_type": "markdown",
   "metadata": {},
   "source": [
    "<img src=\"image/decisiontree.png\"/>"
   ]
  },
  {
   "cell_type": "markdown",
   "metadata": {},
   "source": [
    "Disini, proses pengambilan keputusan adalah melihat dari kondisi paling atas, yaitu berapa jumlah tanggungan. Jika tanggungannya berjumlah 3 atau 4 maka akan langsung ke kotak bawah paling kanan yang menunjukkan rating 3.\n",
    "\n",
    "Dan kalau kita telusuri lagi, untuk jumlah tanggungan 5 dan durasi pinjaman kurang dari 30 maka akan masuk ke rating nilai 4. Lebih mudah dan cepat dimengerti, bukan?\n",
    "\n",
    "Mari kita melangkah ke subbab berikutnya untuk melihat komponen dari decision tree.\n",
    "\n",
    "Berikut adalah komponen dari decision tree:\n",
    "\n"
   ]
  },
  {
   "cell_type": "markdown",
   "metadata": {},
   "source": [
    "<img src=\"image/decision%20tree%20structure.png\"/>"
   ]
  },
  {
   "cell_type": "markdown",
   "metadata": {},
   "source": [
    "- Node: diwakili oleh 1, 3 dan 4.\n",
    "- Branch (cabang) atau split (pemisah): diwakili oleh 2.\n",
    "- Root node: atau node akar, diwakili oleh 3.\n",
    "- Leaf node: atau node daun, diwakili oleh 4.\n",
    "\n",
    "Mengerti komponen-komponen ini sangat penting untuk nanti memahami output dari algoritma machine learning yang digunakan"
   ]
  },
  {
   "cell_type": "markdown",
   "metadata": {},
   "source": [
    "# Algoritma C5.0\n",
    "Apa itu algoritma C5.0?\n",
    "C5.0 adalah kode penamaan suatu algoritma untuk decision tree. Banyak algoritma lain seperti random forest, CART, CHAID, MARS, dan lain-lain. Namun C5.0 adalah algoritma yang sangat populer karena memiliki performa yang sangat baik dari sisi kecepatan maupun akurasi.\n",
    "\n",
    "Algoritma ini sering dikategorikan sebagai classification, dimana tujuannya adalah untuk mengkategorikan atau mengklasifikan sesuatu - pada contoh kita risk rating - berdasarkan input dari data-data lain.\n",
    "\n",
    "Pada bab sebelumnya, kita sudah melihat hasil output dari algoritma ini sebagai berikut."
   ]
  },
  {
   "cell_type": "markdown",
   "metadata": {},
   "source": [
    "<img src=\"image/result%20decision%20tree.png\"/>"
   ]
  },
  {
   "cell_type": "markdown",
   "metadata": {},
   "source": [
    "# Training Set dan Testing Set\n",
    "Untuk proses pembentukan model machine learning dan melihat akurasinya, biasanya dataset kita perlu dibagi menjadi dua, yaitu:\n",
    "\n",
    "Training set: adalah porsi dataset yang digunakan oleh algoritma untuk dianalisa dan menjadi input untuk pembentukan model. \n",
    "Testing set: adalah porsi dataset yang tidak digunakan untuk membentuk model, tapi untuk menguji model yang telah dibentuk.\n",
    "Pembentukan ini biasanya menggunakan metode pemilihan acak. Untuk praktek selanjutnya, kita akan membagi dataset kita menjadi 800 baris data untuk training set dan 100 baris data untuk testing set."
   ]
  },
  {
   "cell_type": "markdown",
   "metadata": {},
   "source": [
    "# Kesimpulan\n",
    "Algoritma C5.0 adalah algoritma machine learning yang digunakan untuk membentuk model pohon keputusan (decision tree) secara otomatis, dan cocok untuk memodelkan dan sebagi alat prediksi credit rating.\n",
    "\n",
    "Karena algoritma ini masuk ke dalam kategori classification, variable yang diperlukan oleh algoritma ini ada dua macam:\n",
    "\n",
    "- Class variable, yaitu variable yang berisi nilai yang ingin kita klasifikasikan. Variable ini harus berisi tipe factor.\n",
    "- Input variables, yaitu variable-variable yang berisi nilai input.\n",
    "\n",
    "Dan untuk mengukur akurasi dari model yang kita hasilkan, kita sebaiknya membagi dataset yang ada menjadi dua porsi secara random:\n",
    "\n",
    "- Training set, yang digunakan untuk memberikan input ke algoritma untuk membentuk model.\n",
    "- Testing set, yang akan digunakan untuk data pembanding untuk mengukur akurasi algoritma.\n",
    "\n",
    "Setelah semua persiapan dataset ini selesai, pada penutup bab dataset ini kita menggunakan fungsi C5.0 untuk membentuk model risk rating. Dan untuk mencetak hasil yang bisa dibaca atas model ini, kita gunakan fungsi  summary. Sedangkan untuk menghasilkan diagram decision tree kita gunakan perintah plot. Semua function ini dari package C50."
   ]
  },
  {
   "cell_type": "markdown",
   "metadata": {},
   "source": [
    "# Interpretasi"
   ]
  },
  {
   "cell_type": "markdown",
   "metadata": {},
   "source": [
    "Label dari Class\n",
    "Mari kita perhatikan baris pertama potongan output yang kita warnai biru sebagai berikut, output lainnya kita hilangkan.\n",
    "\n",
    "Class specified by attribute `outcome'\n",
    "\n",
    "Read 800 ....\n",
    "\n",
    "Ini artinya class variable kita dilabelkan atau dinamakan sebagai outcome. Jika kita kita ingin merubah label yang lebih mewakili, yaitu \"Risk Rating\", maka bisa kita tambahkan parameter control dengan input berupa fungsi C5.0Control dan parameter label sebagai berikut. \n",
    "\n",
    "control = C5.0Control(label=\"Risk Rating\")\n",
    "\n",
    "Tambahkan code ini ke bagian [...1...] dari code editor, dimana sudah dimasukkan seluruh code dari bab sebelumnya - dan jalankan. Jika berjalan dengan baik, maka akan muncul bagian output class label sebagai berikut.\n",
    "\n",
    "Class specified by attribute `Risk Rating'\n",
    "\n",
    "Read 800 ....\n",
    "Terlihat label class kita sudah berubah menjadi \"Risk Rating\". Klik tombol Next untuk melanjutkan ke pembahasan output berikutnya."
   ]
  },
  {
   "cell_type": "markdown",
   "metadata": {},
   "source": [
    "Jumlah Data dan Variable yang Digunakan\n",
    "Kita fokus ke bagian berikutnya dari output - yang diwarnai biru sebagai berikut.\n",
    "\n",
    "Class specified by attribute `Risk Rating'\n",
    "\n",
    "Read 800 cases (3 attributes) from undefined.data \n",
    "Hasil ini artinya kita membaca 800 baris data. Ini karena kita mengambil 800 dari 900 data kita menggunakan function sample berikut.\n",
    "\n",
    "sample(900, 800)\n",
    "\n",
    "Kemudian untuk bagian 3 attributes, ini artinya kita memiliki tiga variable, yaitu:\n",
    "\n",
    "input variables: durasi_pinjaman dan jumlah_tanggungan. Dua variable ini didapatkan dari hasil perintah berikut.\n",
    "\n",
    "input_columns <- c(\"durasi_pinjaman_bulan\", \"jumlah_tanggungan\")\n",
    "datafeed <- dataCreditRating[ , input_columns ]\n",
    "class variable: risk_rating\n",
    "Berikut adalah gambar tampilan dari tiga variable tersebut di Excel.\n",
    "\n",
    "\n",
    "\n",
    "Untuk undefined.data bisa kita abaikan saja, karena bagian ini harusnya berisi informasi file .data dari program C5.0 yang asli. Jika ingin mengetahui lebih lanjut mengenai hal ini bisa dilihat pada url https://www.rulequest.com/see5-unix.html dan fokus ke bagian preparing data.\n",
    "\n",
    "Cobalah Anda ganti dua hal berikut pada code editor:\n",
    "\n",
    "input_columns <- c(\"durasi_pinjaman_bulan\", \"jumlah_tanggungan\")\n",
    "menjadi\n",
    "input_columns <- c(\"durasi_pinjaman_bulan\", \"jumlah_tanggungan\", \"kpr_aktif\")\n",
    "sample(900, 800) menjadi sample(900, 780)\n",
    "Cobalah jalankan dan harusnya Anda akan mendapatkan output baru sebagai berikut. Perhatikan jumlah cases dan attributes sudah berubah.\n",
    "\n",
    "Class specified by attribute `Risk Rating'\n",
    "\n",
    "Read 780 cases (4 attributes) from undefined.data\n",
    "\n",
    "Decision tree:\n",
    "\n",
    "kpr_aktif = TIDAK:\n",
    ":...durasi_pinjaman_bulan <= 24: 1 (189/45)\n",
    ":   durasi_pinjaman_bulan > 24: 2 (136/47)\n",
    "kpr_aktif = YA:\n",
    ":...jumlah_tanggungan <= 4: 3 (259/4)\n",
    "    jumlah_tanggungan > 4:\n",
    "    :...durasi_pinjaman_bulan <= 24: 4 (87/15)\n",
    "        durasi_pinjaman_bulan > 24: 5 (109/31)"
   ]
  },
  {
   "cell_type": "markdown",
   "metadata": {},
   "source": [
    "<img src=\"image/result%20decision%20tree%202.png\"/>"
   ]
  },
  {
   "cell_type": "markdown",
   "metadata": {},
   "source": [
    "Berikut adalah arti pewarnaan tersebut:\n",
    "\n",
    "- Warna biru adalah node dan kondisi splitnya. Hubungan antar node (connector) ditulis dengan karakter titik dua dan titik berulang (:...).\n",
    "- Warna merah adalah leaf node atau klasifikasinya.\n",
    "- Warna ungu adalah statistik kesalahannya dalam bentuk (jumlah_klasifikasi / jumlah_kesalahan)."
   ]
  },
  {
   "cell_type": "markdown",
   "metadata": {},
   "source": [
    "# Confusion Matrix\n",
    "Tampilan output berikutnya adalah semacam tabel yang disebut dengan confusion matrix dengan ukuran 5 x 5."
   ]
  },
  {
   "cell_type": "markdown",
   "metadata": {},
   "source": [
    "<img src=\"image/confusion%20matrix%205x5.png\"/>"
   ]
  },
  {
   "cell_type": "markdown",
   "metadata": {},
   "source": [
    "Confusion matrix atau error matrix adalah tabel yang menunjukkan hasil dari klasifikasi yang dilakukan model versus (dibandingkan) dengan data klasifikasi sebenarnya, dengan demikian menunjukkan seberapa akurat model melakukan klasifikasi atau prediksi.\n",
    "\n",
    "Confusion matrix ini terdiri dari jumlah kolom dan row yang sama. Dimana header dari row dan kolom adalah merupakan representasi dari nilai class variable - untuk contoh kita adalah representasi risk_rating.  Untuk kasus kita dimana class variable ada 5, maka tabelnya berukuran 5 x 5 seperti terlihat di atas.\n",
    "\n",
    "- Header pada kolom (column headers) menunjukkan nilai class risk_rating yang diprediksi atau diklasifikasikan oleh model, dengan menggunakan label (a), (b), (c), dan seterusnya.\n",
    "- Header pada baris (row headers)  menunjukkan nilai class risk_rating pada data sebenarnya. Masih direpresentasikan dengan (a), (b), (c), (d) dan (e). Namun disini sudah diberikan informasi label tersebut merepresentasikan nilai risk_rating yang mana. Terlihat kalau (a) merupakan representasi risk_rating dengan nilai 1, (b) merupakan representasi risk_rating dengan nilai 2, dan seterusnya.\n",
    "- Tiap perpotongan antara kolom dan baris merupakan informasi hasil prediksi dari class ada di nilai pada kolom dibandingkan data aktual class-nya berada pada nilai di baris."
   ]
  },
  {
   "cell_type": "markdown",
   "metadata": {},
   "source": [
    "- Angka 179 pada kolom pertama baris pertama menunjukkan jumlah data yang benar klasifikasi atau prediksinya, dimana:\n",
    "klasifikasi model terhadap data mendapatkan risk_rating 1\n",
    "pada data aktual juga nilai risk_rating-nya 1\n",
    "- Angka 1 pada kolom kedua baris pertama menunjukkan jumlah data yang salah prediksi, dimana:\n",
    "klasifikasi model terhadap data mendapatkan risk_rating 2\n",
    "pada data aktual ternyata nilai risk_rating-nya 1\n",
    "- Angka 5 pada kolom ketiga baris pertama menunjukkan jumlah data yang salah prediksi, dimana:\n",
    "klasifikasi model terhadap data mendapatkan risk_rating 3\n",
    "pada data aktual ternyata nilai risk_rating-nya 1\n",
    "- Angka 5 pada kolom keempat baris pertama menunjukkan jumlah data yang salah prediksi, dimana:\n",
    "klasifikasi model terhadap data mendapatkan risk_rating 4\n",
    "pada data aktual ternyata nilai risk_rating-nya 1\n",
    "- Angka 6 pada kolom kelima baris pertama menunjukkan jumlah data yang salah prediksi, dimana:\n",
    "\n",
    "klasifikasi model terhadap data mendapatkan risk_rating 5\n",
    "pada data aktual ternyata nilai risk_rating-nya 1\n",
    "Kita bisa ambil kesimpulan dari penjelasan di atas, jika perpotongan kolom dan baris jatuh pada label yang sama maka klasifikasi dari model itu benar. Sedangkan jika beda label maka salah.\n",
    "\n",
    "Dari kesimpulan di atas juga, maka kita bisa ambil keseimpulan lanjutan kalau diagonal ke kanan bawah di confusion matrix menunjukkan seluruh prediksi yang benar dari model, karena berpotongan di label yang sama, seperti terlihat pada angka-angka yang diwarnai biru sebagai berikut. Untuk angka yang berwarna merah merupakan representasi jumlah data yang salah prediksi."
   ]
  },
  {
   "cell_type": "markdown",
   "metadata": {},
   "source": [
    "<img src=\"image/confusion%20matrix%205x5%20color.png\"/>"
   ]
  },
  {
   "cell_type": "markdown",
   "metadata": {},
   "source": [
    "Terakhir, kita coba jumlahkan seluruh angka ini:\n",
    "- Angka dengan prediksi benar: 620 (179 + 30 + 258 + 73 + 80)\n",
    "- Angka dengan prediksi salah: 180 (1 + 5 + 5 + 6 + 80 + 14 + 3 + 12 + 4 + 2 + 31 + 17)\n",
    "\n",
    "Total adalah 800 data, sesuai dengan statistik sebenarnya. Angka 180 yang merupakan error juga konsisten dengan hasil output di subbab sebelumnya."
   ]
  },
  {
   "cell_type": "markdown",
   "metadata": {},
   "source": [
    "# Variable-variable Penentu\n",
    "Output terakhir adalah daftar variable-variable yang digunakan oleh model decision tree.\n",
    "\n",
    "\tAttribute usage:\n",
    "\n",
    "\t100.00%\tjumlah_tanggungan\n",
    "\t 72.62%\tdurasi_pinjaman_bulan\n",
    "Output tersebut menceritakan tingkat pentingnya penggunaan tiap variable. Disini jumlah_tanggungan menempati urutan pertama dengan nilai 100% dan durasi_pinjaman dengan 72.62%.\n",
    "\n",
    "Ini juga yang menjelaskan kenapa jumlah_tanggungan menempati root node di model kita.\n",
    "\n",
    "Klik tombol Next untuk melanjutkan ke penutup bab."
   ]
  },
  {
   "cell_type": "markdown",
   "metadata": {},
   "source": [
    "# Elemen dari Plot Decision Tree C5.0\n",
    "Berikut adalah gambar dari plot Decision Tree C5.0 yang telah diberi warna dengan penjelasan berikut (setelah gambar)."
   ]
  },
  {
   "cell_type": "markdown",
   "metadata": {},
   "source": [
    "<img src=\"image/output%202.png\"/>"
   ]
  },
  {
   "cell_type": "markdown",
   "metadata": {},
   "source": [
    "- Warna merah menunjukkan node dan penomoran nodenya\n",
    "   1. bulatan merah nomor 1 adalah node nomor 1 adalah root node dengan variable penentu jumlah_tanggungan.\n",
    "   2. bulatan merah nomor 2 adalah node nomor 2 dengan variable penentu jumlah_tanggungan.\n",
    "   3. bulatan merah nomor 3 adalah node nomor 7 adalah leaf node untuk klasifikasi risk_rating.\n",
    "- Warna biru menunjukkan kondisi split ke node-node berikutnya\n",
    "   1. bulatan biru nomor 4 menunjukkan kondisi split dimana durasi pinjaman kurang atau sama dengan 24 bulan.\n",
    "   2. bulatan biru nomor 5 menunjukkan kondisi split dimana durasi pinjaman lebih dari 24 bulan.\n",
    "- Warna hijau menunjukkan jumlah data yang telah diklasifikasi.\n",
    "   1. bulatan hijau nomor 6 menunjukkan hasil klasifikasi sebanyak 98 data.\n",
    "   2. bulatan hijau nomor 7 menunjukkan hasil klasifikasi sebanyak 129 data.\n",
    "- Warna ungu menunjukkan hasil klasifikasi dan distribusinya (dalam rentang rasio antara angka 0 dan  1).\n",
    "   1. bulatan ungu nomor 8 menunjukkan risk_rating pada node tersebut mayoritas adalah 4, dan dengan demikian model mengambil itu sebagai klasifikasinya. Selain itu risk_rating 5, 1, dan 2 adalah data yang juga sebenarnya jatuh ke dalam kondisi yang berakhir di node nomor 10 ini.\n",
    "   2. bulatan ungu nomor 9 menunjukkan risk_rating pada node tersebut mayoritas adalah 5, dan dengan demikian model mengambil itu sebagai klasifikasinya. Selain itu risk_rating 4, 2, dan 1 adalah data yang juga sebenarnya jatuh ke dalam kondisi yang berakhir di node nomor 11 ini."
   ]
  },
  {
   "cell_type": "markdown",
   "metadata": {},
   "source": [
    "# Skill\n",
    "1. Mengerti apa itu decision tree dan algoritma C5.0.\n",
    "2. Melakukan data preparation untuk class variable dan input variable.\n",
    "3. Melakukan data preparation untuk training dan testing set.\n",
    "4. Menggunakan training set untuk menghasilkan model credit risk menggunakan algoritma C5.0.\n",
    "5. Mengevaluasi akurasi decision credit risk.\n",
    "6. Menggunakan model tersebut untuk memprediksi risk rating data pengajuan baru."
   ]
  },
  {
   "cell_type": "code",
   "execution_count": null,
   "metadata": {},
   "outputs": [],
   "source": []
  }
 ],
 "metadata": {
  "kernelspec": {
   "display_name": "Python 3",
   "language": "python",
   "name": "python3"
  },
  "language_info": {
   "codemirror_mode": {
    "name": "ipython",
    "version": 3
   },
   "file_extension": ".py",
   "mimetype": "text/x-python",
   "name": "python",
   "nbconvert_exporter": "python",
   "pygments_lexer": "ipython3",
   "version": "3.7.6"
  }
 },
 "nbformat": 4,
 "nbformat_minor": 4
}
